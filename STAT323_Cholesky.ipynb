{
  "nbformat": 4,
  "nbformat_minor": 0,
  "metadata": {
    "colab": {
      "provenance": []
    },
    "kernelspec": {
      "name": "python3",
      "display_name": "Python 3"
    },
    "language_info": {
      "name": "python"
    }
  },
  "cells": [
    {
      "cell_type": "code",
      "execution_count": 2,
      "metadata": {
        "id": "R31H0YCKMdqn"
      },
      "outputs": [],
      "source": [
        "import numpy as np\n",
        "\n",
        "def cholesky_decomposition(A):\n",
        "    matrix_size = len(A)\n",
        "    A = A.astype(float)\n",
        "    L = np.zeros_like(A)\n",
        "    for c in range(matrix_size):\n",
        "        L[c, c] = np.sqrt(A[c, c] - L[c, :c] @ L[c, :c].T)\n",
        "        L[(c+1):, c] = (A[(c+1):, c] - L[(c+1):, :c] @ L[c, :c].T) / L[c, c]\n",
        "    return L"
      ]
    }
  ]
}